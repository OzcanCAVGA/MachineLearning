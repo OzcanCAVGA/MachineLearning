{
 "cells": [
  {
   "cell_type": "code",
   "execution_count": 21,
   "id": "cc4aa316-fd33-4244-8f40-c2232d696f31",
   "metadata": {},
   "outputs": [],
   "source": [
    "import pandas as pd"
   ]
  },
  {
   "cell_type": "code",
   "execution_count": 23,
   "id": "a518a385-dd47-48ab-8c31-c69b193d1376",
   "metadata": {},
   "outputs": [
    {
     "data": {
      "text/html": [
       "<div>\n",
       "<style scoped>\n",
       "    .dataframe tbody tr th:only-of-type {\n",
       "        vertical-align: middle;\n",
       "    }\n",
       "\n",
       "    .dataframe tbody tr th {\n",
       "        vertical-align: top;\n",
       "    }\n",
       "\n",
       "    .dataframe thead th {\n",
       "        text-align: right;\n",
       "    }\n",
       "</style>\n",
       "<table border=\"1\" class=\"dataframe\">\n",
       "  <thead>\n",
       "    <tr style=\"text-align: right;\">\n",
       "      <th></th>\n",
       "      <th>label</th>\n",
       "      <th>id</th>\n",
       "      <th>fea_1</th>\n",
       "      <th>fea_2</th>\n",
       "      <th>fea_3</th>\n",
       "      <th>fea_4</th>\n",
       "      <th>fea_5</th>\n",
       "      <th>fea_6</th>\n",
       "      <th>fea_7</th>\n",
       "      <th>fea_8</th>\n",
       "      <th>fea_9</th>\n",
       "      <th>fea_10</th>\n",
       "      <th>fea_11</th>\n",
       "    </tr>\n",
       "  </thead>\n",
       "  <tbody>\n",
       "    <tr>\n",
       "      <th>0</th>\n",
       "      <td>1</td>\n",
       "      <td>54982665</td>\n",
       "      <td>5</td>\n",
       "      <td>1245.5</td>\n",
       "      <td>3</td>\n",
       "      <td>77000.0</td>\n",
       "      <td>2</td>\n",
       "      <td>15</td>\n",
       "      <td>5</td>\n",
       "      <td>109</td>\n",
       "      <td>5</td>\n",
       "      <td>151300</td>\n",
       "      <td>244.948974</td>\n",
       "    </tr>\n",
       "    <tr>\n",
       "      <th>1</th>\n",
       "      <td>0</td>\n",
       "      <td>59004779</td>\n",
       "      <td>4</td>\n",
       "      <td>1277.0</td>\n",
       "      <td>1</td>\n",
       "      <td>113000.0</td>\n",
       "      <td>2</td>\n",
       "      <td>8</td>\n",
       "      <td>-1</td>\n",
       "      <td>100</td>\n",
       "      <td>3</td>\n",
       "      <td>341759</td>\n",
       "      <td>207.173840</td>\n",
       "    </tr>\n",
       "    <tr>\n",
       "      <th>2</th>\n",
       "      <td>0</td>\n",
       "      <td>58990862</td>\n",
       "      <td>7</td>\n",
       "      <td>1298.0</td>\n",
       "      <td>1</td>\n",
       "      <td>110000.0</td>\n",
       "      <td>2</td>\n",
       "      <td>11</td>\n",
       "      <td>-1</td>\n",
       "      <td>101</td>\n",
       "      <td>5</td>\n",
       "      <td>72001</td>\n",
       "      <td>1.000000</td>\n",
       "    </tr>\n",
       "    <tr>\n",
       "      <th>3</th>\n",
       "      <td>1</td>\n",
       "      <td>58995168</td>\n",
       "      <td>7</td>\n",
       "      <td>1335.5</td>\n",
       "      <td>1</td>\n",
       "      <td>151000.0</td>\n",
       "      <td>2</td>\n",
       "      <td>11</td>\n",
       "      <td>5</td>\n",
       "      <td>110</td>\n",
       "      <td>3</td>\n",
       "      <td>60084</td>\n",
       "      <td>1.000000</td>\n",
       "    </tr>\n",
       "    <tr>\n",
       "      <th>4</th>\n",
       "      <td>0</td>\n",
       "      <td>54987320</td>\n",
       "      <td>7</td>\n",
       "      <td>NaN</td>\n",
       "      <td>2</td>\n",
       "      <td>59000.0</td>\n",
       "      <td>2</td>\n",
       "      <td>11</td>\n",
       "      <td>5</td>\n",
       "      <td>108</td>\n",
       "      <td>4</td>\n",
       "      <td>450081</td>\n",
       "      <td>197.403141</td>\n",
       "    </tr>\n",
       "    <tr>\n",
       "      <th>...</th>\n",
       "      <td>...</td>\n",
       "      <td>...</td>\n",
       "      <td>...</td>\n",
       "      <td>...</td>\n",
       "      <td>...</td>\n",
       "      <td>...</td>\n",
       "      <td>...</td>\n",
       "      <td>...</td>\n",
       "      <td>...</td>\n",
       "      <td>...</td>\n",
       "      <td>...</td>\n",
       "      <td>...</td>\n",
       "      <td>...</td>\n",
       "    </tr>\n",
       "    <tr>\n",
       "      <th>1120</th>\n",
       "      <td>0</td>\n",
       "      <td>58988196</td>\n",
       "      <td>5</td>\n",
       "      <td>1289.0</td>\n",
       "      <td>1</td>\n",
       "      <td>173000.0</td>\n",
       "      <td>2</td>\n",
       "      <td>15</td>\n",
       "      <td>5</td>\n",
       "      <td>112</td>\n",
       "      <td>3</td>\n",
       "      <td>350702</td>\n",
       "      <td>200.000000</td>\n",
       "    </tr>\n",
       "    <tr>\n",
       "      <th>1121</th>\n",
       "      <td>0</td>\n",
       "      <td>58987926</td>\n",
       "      <td>5</td>\n",
       "      <td>NaN</td>\n",
       "      <td>2</td>\n",
       "      <td>50000.0</td>\n",
       "      <td>2</td>\n",
       "      <td>15</td>\n",
       "      <td>5</td>\n",
       "      <td>108</td>\n",
       "      <td>4</td>\n",
       "      <td>450000</td>\n",
       "      <td>169.000000</td>\n",
       "    </tr>\n",
       "    <tr>\n",
       "      <th>1122</th>\n",
       "      <td>0</td>\n",
       "      <td>58995381</td>\n",
       "      <td>7</td>\n",
       "      <td>1220.0</td>\n",
       "      <td>3</td>\n",
       "      <td>76000.0</td>\n",
       "      <td>2</td>\n",
       "      <td>11</td>\n",
       "      <td>2</td>\n",
       "      <td>90</td>\n",
       "      <td>5</td>\n",
       "      <td>71002</td>\n",
       "      <td>1.000000</td>\n",
       "    </tr>\n",
       "    <tr>\n",
       "      <th>1123</th>\n",
       "      <td>0</td>\n",
       "      <td>58998054</td>\n",
       "      <td>4</td>\n",
       "      <td>1250.0</td>\n",
       "      <td>3</td>\n",
       "      <td>137000.0</td>\n",
       "      <td>2</td>\n",
       "      <td>8</td>\n",
       "      <td>5</td>\n",
       "      <td>90</td>\n",
       "      <td>5</td>\n",
       "      <td>72000</td>\n",
       "      <td>1.000000</td>\n",
       "    </tr>\n",
       "    <tr>\n",
       "      <th>1124</th>\n",
       "      <td>0</td>\n",
       "      <td>54989781</td>\n",
       "      <td>4</td>\n",
       "      <td>1415.0</td>\n",
       "      <td>3</td>\n",
       "      <td>93000.0</td>\n",
       "      <td>2</td>\n",
       "      <td>8</td>\n",
       "      <td>5</td>\n",
       "      <td>113</td>\n",
       "      <td>4</td>\n",
       "      <td>151300</td>\n",
       "      <td>273.861279</td>\n",
       "    </tr>\n",
       "  </tbody>\n",
       "</table>\n",
       "<p>1125 rows × 13 columns</p>\n",
       "</div>"
      ],
      "text/plain": [
       "      label        id  fea_1   fea_2  fea_3     fea_4  fea_5  fea_6  fea_7  \\\n",
       "0         1  54982665      5  1245.5      3   77000.0      2     15      5   \n",
       "1         0  59004779      4  1277.0      1  113000.0      2      8     -1   \n",
       "2         0  58990862      7  1298.0      1  110000.0      2     11     -1   \n",
       "3         1  58995168      7  1335.5      1  151000.0      2     11      5   \n",
       "4         0  54987320      7     NaN      2   59000.0      2     11      5   \n",
       "...     ...       ...    ...     ...    ...       ...    ...    ...    ...   \n",
       "1120      0  58988196      5  1289.0      1  173000.0      2     15      5   \n",
       "1121      0  58987926      5     NaN      2   50000.0      2     15      5   \n",
       "1122      0  58995381      7  1220.0      3   76000.0      2     11      2   \n",
       "1123      0  58998054      4  1250.0      3  137000.0      2      8      5   \n",
       "1124      0  54989781      4  1415.0      3   93000.0      2      8      5   \n",
       "\n",
       "      fea_8  fea_9  fea_10      fea_11  \n",
       "0       109      5  151300  244.948974  \n",
       "1       100      3  341759  207.173840  \n",
       "2       101      5   72001    1.000000  \n",
       "3       110      3   60084    1.000000  \n",
       "4       108      4  450081  197.403141  \n",
       "...     ...    ...     ...         ...  \n",
       "1120    112      3  350702  200.000000  \n",
       "1121    108      4  450000  169.000000  \n",
       "1122     90      5   71002    1.000000  \n",
       "1123     90      5   72000    1.000000  \n",
       "1124    113      4  151300  273.861279  \n",
       "\n",
       "[1125 rows x 13 columns]"
      ]
     },
     "execution_count": 23,
     "metadata": {},
     "output_type": "execute_result"
    }
   ],
   "source": [
    "df = pd.read_csv(\"/resources/customer_data.csv\")\n",
    "df"
   ]
  },
  {
   "cell_type": "code",
   "execution_count": 25,
   "id": "a5f8e6cc-d66c-4af9-b2fa-04be4f56ec91",
   "metadata": {},
   "outputs": [
    {
     "name": "stdout",
     "output_type": "stream",
     "text": [
      "<class 'pandas.core.frame.DataFrame'>\n",
      "RangeIndex: 1125 entries, 0 to 1124\n",
      "Data columns (total 13 columns):\n",
      " #   Column  Non-Null Count  Dtype  \n",
      "---  ------  --------------  -----  \n",
      " 0   label   1125 non-null   int64  \n",
      " 1   id      1125 non-null   int64  \n",
      " 2   fea_1   1125 non-null   int64  \n",
      " 3   fea_2   976 non-null    float64\n",
      " 4   fea_3   1125 non-null   int64  \n",
      " 5   fea_4   1125 non-null   float64\n",
      " 6   fea_5   1125 non-null   int64  \n",
      " 7   fea_6   1125 non-null   int64  \n",
      " 8   fea_7   1125 non-null   int64  \n",
      " 9   fea_8   1125 non-null   int64  \n",
      " 10  fea_9   1125 non-null   int64  \n",
      " 11  fea_10  1125 non-null   int64  \n",
      " 12  fea_11  1125 non-null   float64\n",
      "dtypes: float64(3), int64(10)\n",
      "memory usage: 114.4 KB\n"
     ]
    }
   ],
   "source": [
    "df.info()"
   ]
  },
  {
   "cell_type": "markdown",
   "id": "d81636bd-9e68-4d37-b015-4aa0ab00080d",
   "metadata": {},
   "source": [
    "fea_2 sutununda eksik veriler mevcut, diger sutunlar 1125 veri icerirken, fea_2 ise 976 veri iceriyor.\n",
    "\n",
    "float64 ve int64 DType ler olduguna gore, baskin tipler bunlar. Hic kategori verisinin olmadigini soyluyor."
   ]
  },
  {
   "cell_type": "code",
   "execution_count": 28,
   "id": "9c12aa98-3877-4832-aad4-5f7e3cc8e7f8",
   "metadata": {},
   "outputs": [
    {
     "data": {
      "text/html": [
       "<div>\n",
       "<style scoped>\n",
       "    .dataframe tbody tr th:only-of-type {\n",
       "        vertical-align: middle;\n",
       "    }\n",
       "\n",
       "    .dataframe tbody tr th {\n",
       "        vertical-align: top;\n",
       "    }\n",
       "\n",
       "    .dataframe thead th {\n",
       "        text-align: right;\n",
       "    }\n",
       "</style>\n",
       "<table border=\"1\" class=\"dataframe\">\n",
       "  <thead>\n",
       "    <tr style=\"text-align: right;\">\n",
       "      <th></th>\n",
       "      <th>label</th>\n",
       "      <th>id</th>\n",
       "      <th>fea_1</th>\n",
       "      <th>fea_2</th>\n",
       "      <th>fea_3</th>\n",
       "      <th>fea_4</th>\n",
       "      <th>fea_5</th>\n",
       "      <th>fea_6</th>\n",
       "      <th>fea_7</th>\n",
       "      <th>fea_8</th>\n",
       "      <th>fea_9</th>\n",
       "      <th>fea_10</th>\n",
       "      <th>fea_11</th>\n",
       "    </tr>\n",
       "  </thead>\n",
       "  <tbody>\n",
       "    <tr>\n",
       "      <th>count</th>\n",
       "      <td>1125.000000</td>\n",
       "      <td>1.125000e+03</td>\n",
       "      <td>1125.000000</td>\n",
       "      <td>976.000000</td>\n",
       "      <td>1125.000000</td>\n",
       "      <td>1.125000e+03</td>\n",
       "      <td>1125.000000</td>\n",
       "      <td>1125.000000</td>\n",
       "      <td>1125.000000</td>\n",
       "      <td>1125.000000</td>\n",
       "      <td>1125.000000</td>\n",
       "      <td>1125.000000</td>\n",
       "      <td>1125.000000</td>\n",
       "    </tr>\n",
       "    <tr>\n",
       "      <th>mean</th>\n",
       "      <td>0.200000</td>\n",
       "      <td>5.783677e+07</td>\n",
       "      <td>5.482667</td>\n",
       "      <td>1283.911373</td>\n",
       "      <td>2.333333</td>\n",
       "      <td>1.208836e+05</td>\n",
       "      <td>1.928889</td>\n",
       "      <td>10.872000</td>\n",
       "      <td>4.832889</td>\n",
       "      <td>100.802667</td>\n",
       "      <td>4.195556</td>\n",
       "      <td>164618.495111</td>\n",
       "      <td>134.999004</td>\n",
       "    </tr>\n",
       "    <tr>\n",
       "      <th>std</th>\n",
       "      <td>0.400178</td>\n",
       "      <td>1.817150e+06</td>\n",
       "      <td>1.383338</td>\n",
       "      <td>51.764022</td>\n",
       "      <td>0.878773</td>\n",
       "      <td>8.844523e+04</td>\n",
       "      <td>0.257125</td>\n",
       "      <td>2.676437</td>\n",
       "      <td>2.971182</td>\n",
       "      <td>11.988955</td>\n",
       "      <td>0.855679</td>\n",
       "      <td>152520.488281</td>\n",
       "      <td>112.616798</td>\n",
       "    </tr>\n",
       "    <tr>\n",
       "      <th>min</th>\n",
       "      <td>0.000000</td>\n",
       "      <td>5.498235e+07</td>\n",
       "      <td>1.000000</td>\n",
       "      <td>1116.500000</td>\n",
       "      <td>1.000000</td>\n",
       "      <td>1.500000e+04</td>\n",
       "      <td>1.000000</td>\n",
       "      <td>3.000000</td>\n",
       "      <td>-1.000000</td>\n",
       "      <td>64.000000</td>\n",
       "      <td>1.000000</td>\n",
       "      <td>60000.000000</td>\n",
       "      <td>1.000000</td>\n",
       "    </tr>\n",
       "    <tr>\n",
       "      <th>25%</th>\n",
       "      <td>0.000000</td>\n",
       "      <td>5.499050e+07</td>\n",
       "      <td>4.000000</td>\n",
       "      <td>1244.000000</td>\n",
       "      <td>1.000000</td>\n",
       "      <td>7.200000e+04</td>\n",
       "      <td>2.000000</td>\n",
       "      <td>8.000000</td>\n",
       "      <td>5.000000</td>\n",
       "      <td>90.000000</td>\n",
       "      <td>3.000000</td>\n",
       "      <td>60044.000000</td>\n",
       "      <td>1.000000</td>\n",
       "    </tr>\n",
       "    <tr>\n",
       "      <th>50%</th>\n",
       "      <td>0.000000</td>\n",
       "      <td>5.898975e+07</td>\n",
       "      <td>5.000000</td>\n",
       "      <td>1281.500000</td>\n",
       "      <td>3.000000</td>\n",
       "      <td>1.020000e+05</td>\n",
       "      <td>2.000000</td>\n",
       "      <td>11.000000</td>\n",
       "      <td>5.000000</td>\n",
       "      <td>105.000000</td>\n",
       "      <td>4.000000</td>\n",
       "      <td>72000.000000</td>\n",
       "      <td>173.205081</td>\n",
       "    </tr>\n",
       "    <tr>\n",
       "      <th>75%</th>\n",
       "      <td>0.000000</td>\n",
       "      <td>5.899799e+07</td>\n",
       "      <td>7.000000</td>\n",
       "      <td>1314.500000</td>\n",
       "      <td>3.000000</td>\n",
       "      <td>1.390000e+05</td>\n",
       "      <td>2.000000</td>\n",
       "      <td>11.000000</td>\n",
       "      <td>5.000000</td>\n",
       "      <td>111.000000</td>\n",
       "      <td>5.000000</td>\n",
       "      <td>151307.000000</td>\n",
       "      <td>202.484567</td>\n",
       "    </tr>\n",
       "    <tr>\n",
       "      <th>max</th>\n",
       "      <td>1.000000</td>\n",
       "      <td>5.900624e+07</td>\n",
       "      <td>7.000000</td>\n",
       "      <td>1481.000000</td>\n",
       "      <td>3.000000</td>\n",
       "      <td>1.200000e+06</td>\n",
       "      <td>2.000000</td>\n",
       "      <td>16.000000</td>\n",
       "      <td>10.000000</td>\n",
       "      <td>115.000000</td>\n",
       "      <td>5.000000</td>\n",
       "      <td>650070.000000</td>\n",
       "      <td>707.106781</td>\n",
       "    </tr>\n",
       "  </tbody>\n",
       "</table>\n",
       "</div>"
      ],
      "text/plain": [
       "             label            id        fea_1        fea_2        fea_3  \\\n",
       "count  1125.000000  1.125000e+03  1125.000000   976.000000  1125.000000   \n",
       "mean      0.200000  5.783677e+07     5.482667  1283.911373     2.333333   \n",
       "std       0.400178  1.817150e+06     1.383338    51.764022     0.878773   \n",
       "min       0.000000  5.498235e+07     1.000000  1116.500000     1.000000   \n",
       "25%       0.000000  5.499050e+07     4.000000  1244.000000     1.000000   \n",
       "50%       0.000000  5.898975e+07     5.000000  1281.500000     3.000000   \n",
       "75%       0.000000  5.899799e+07     7.000000  1314.500000     3.000000   \n",
       "max       1.000000  5.900624e+07     7.000000  1481.000000     3.000000   \n",
       "\n",
       "              fea_4        fea_5        fea_6        fea_7        fea_8  \\\n",
       "count  1.125000e+03  1125.000000  1125.000000  1125.000000  1125.000000   \n",
       "mean   1.208836e+05     1.928889    10.872000     4.832889   100.802667   \n",
       "std    8.844523e+04     0.257125     2.676437     2.971182    11.988955   \n",
       "min    1.500000e+04     1.000000     3.000000    -1.000000    64.000000   \n",
       "25%    7.200000e+04     2.000000     8.000000     5.000000    90.000000   \n",
       "50%    1.020000e+05     2.000000    11.000000     5.000000   105.000000   \n",
       "75%    1.390000e+05     2.000000    11.000000     5.000000   111.000000   \n",
       "max    1.200000e+06     2.000000    16.000000    10.000000   115.000000   \n",
       "\n",
       "             fea_9         fea_10       fea_11  \n",
       "count  1125.000000    1125.000000  1125.000000  \n",
       "mean      4.195556  164618.495111   134.999004  \n",
       "std       0.855679  152520.488281   112.616798  \n",
       "min       1.000000   60000.000000     1.000000  \n",
       "25%       3.000000   60044.000000     1.000000  \n",
       "50%       4.000000   72000.000000   173.205081  \n",
       "75%       5.000000  151307.000000   202.484567  \n",
       "max       5.000000  650070.000000   707.106781  "
      ]
     },
     "execution_count": 28,
     "metadata": {},
     "output_type": "execute_result"
    }
   ],
   "source": [
    "df.describe()"
   ]
  },
  {
   "cell_type": "markdown",
   "id": "1d004583-1a40-4d37-ae9d-f01bc3f83a25",
   "metadata": {},
   "source": [
    "**describe()** fonksyonu, sayisal sutunlarin istatistikel ozetini sunar.  \n",
    "    Count: Gözlemlenen veri sayısı. Sutunda bulunan veri sayisini soyler. **fea_2** icin 1125  \n",
    "    Mean: Ortalama değer  \n",
    "    Std: Standart sapma, verilerin ne kadar dağıldığını gösterir.  \n",
    "    Min: En küçük değer  \n",
    "    25%: Alt çeyrek (25. yüzdelik)  \n",
    "    50%: Medyan (orta değer)  \n",
    "    75%: Üst çeyrek (75. yüzdelik)  \n",
    "    Max: En büyük değer  \n",
    "Bu istatistikler, her bir sayısal sütunun genel dağılımını ve merkezi eğilimini gösterir. Örneğin, fea_2 sütununda eksik veri var (count değeri farklı). Diğer sayısal sütunlardaki değerlerin dağılımı ve ortalaması da görülebilir.\n",
    "\n",
    " \n",
    "Verileri **küçükten büyüğe sıraladığınızda**, **yüzde 25'lik dilim, tüm verilerin en düşük %25'ini**, yüzde 50'lik dilim (veya medyan) tüm verilerin orta değerini ve yüzde 75'lik dilim ise tüm verilerin en yüksek %25'ini temsil eder. Bu, veri dağılımının genel bir görünümünü sağlar. Örneğin, **fea_2** için medyan değeri 1281.5'tir. Verilerin yarısı bu değerden küçük, yarısı bu değerden büyüktür demektir. Bu istatistikler, veri setindeki değerlerin nasıl dağıldığını anlamak için kullanılır."
   ]
  },
  {
   "cell_type": "code",
   "execution_count": 31,
   "id": "2105b20f-7831-4824-946c-3f4ef2770b3a",
   "metadata": {},
   "outputs": [
    {
     "data": {
      "text/html": [
       "<div>\n",
       "<style scoped>\n",
       "    .dataframe tbody tr th:only-of-type {\n",
       "        vertical-align: middle;\n",
       "    }\n",
       "\n",
       "    .dataframe tbody tr th {\n",
       "        vertical-align: top;\n",
       "    }\n",
       "\n",
       "    .dataframe thead th {\n",
       "        text-align: right;\n",
       "    }\n",
       "</style>\n",
       "<table border=\"1\" class=\"dataframe\">\n",
       "  <thead>\n",
       "    <tr style=\"text-align: right;\">\n",
       "      <th></th>\n",
       "      <th>count</th>\n",
       "      <th>mean</th>\n",
       "      <th>std</th>\n",
       "      <th>min</th>\n",
       "      <th>25%</th>\n",
       "      <th>50%</th>\n",
       "      <th>75%</th>\n",
       "      <th>max</th>\n",
       "    </tr>\n",
       "  </thead>\n",
       "  <tbody>\n",
       "    <tr>\n",
       "      <th>label</th>\n",
       "      <td>1125.0</td>\n",
       "      <td>2.000000e-01</td>\n",
       "      <td>4.001779e-01</td>\n",
       "      <td>0.0</td>\n",
       "      <td>0.0</td>\n",
       "      <td>0.000000e+00</td>\n",
       "      <td>0.000000e+00</td>\n",
       "      <td>1.000000e+00</td>\n",
       "    </tr>\n",
       "    <tr>\n",
       "      <th>id</th>\n",
       "      <td>1125.0</td>\n",
       "      <td>5.783677e+07</td>\n",
       "      <td>1.817150e+06</td>\n",
       "      <td>54982353.0</td>\n",
       "      <td>54990497.0</td>\n",
       "      <td>5.898975e+07</td>\n",
       "      <td>5.899799e+07</td>\n",
       "      <td>5.900624e+07</td>\n",
       "    </tr>\n",
       "    <tr>\n",
       "      <th>fea_1</th>\n",
       "      <td>1125.0</td>\n",
       "      <td>5.482667e+00</td>\n",
       "      <td>1.383338e+00</td>\n",
       "      <td>1.0</td>\n",
       "      <td>4.0</td>\n",
       "      <td>5.000000e+00</td>\n",
       "      <td>7.000000e+00</td>\n",
       "      <td>7.000000e+00</td>\n",
       "    </tr>\n",
       "    <tr>\n",
       "      <th>fea_2</th>\n",
       "      <td>976.0</td>\n",
       "      <td>1.283911e+03</td>\n",
       "      <td>5.176402e+01</td>\n",
       "      <td>1116.5</td>\n",
       "      <td>1244.0</td>\n",
       "      <td>1.281500e+03</td>\n",
       "      <td>1.314500e+03</td>\n",
       "      <td>1.481000e+03</td>\n",
       "    </tr>\n",
       "    <tr>\n",
       "      <th>fea_3</th>\n",
       "      <td>1125.0</td>\n",
       "      <td>2.333333e+00</td>\n",
       "      <td>8.787730e-01</td>\n",
       "      <td>1.0</td>\n",
       "      <td>1.0</td>\n",
       "      <td>3.000000e+00</td>\n",
       "      <td>3.000000e+00</td>\n",
       "      <td>3.000000e+00</td>\n",
       "    </tr>\n",
       "    <tr>\n",
       "      <th>fea_4</th>\n",
       "      <td>1125.0</td>\n",
       "      <td>1.208836e+05</td>\n",
       "      <td>8.844523e+04</td>\n",
       "      <td>15000.0</td>\n",
       "      <td>72000.0</td>\n",
       "      <td>1.020000e+05</td>\n",
       "      <td>1.390000e+05</td>\n",
       "      <td>1.200000e+06</td>\n",
       "    </tr>\n",
       "    <tr>\n",
       "      <th>fea_5</th>\n",
       "      <td>1125.0</td>\n",
       "      <td>1.928889e+00</td>\n",
       "      <td>2.571247e-01</td>\n",
       "      <td>1.0</td>\n",
       "      <td>2.0</td>\n",
       "      <td>2.000000e+00</td>\n",
       "      <td>2.000000e+00</td>\n",
       "      <td>2.000000e+00</td>\n",
       "    </tr>\n",
       "    <tr>\n",
       "      <th>fea_6</th>\n",
       "      <td>1125.0</td>\n",
       "      <td>1.087200e+01</td>\n",
       "      <td>2.676437e+00</td>\n",
       "      <td>3.0</td>\n",
       "      <td>8.0</td>\n",
       "      <td>1.100000e+01</td>\n",
       "      <td>1.100000e+01</td>\n",
       "      <td>1.600000e+01</td>\n",
       "    </tr>\n",
       "    <tr>\n",
       "      <th>fea_7</th>\n",
       "      <td>1125.0</td>\n",
       "      <td>4.832889e+00</td>\n",
       "      <td>2.971182e+00</td>\n",
       "      <td>-1.0</td>\n",
       "      <td>5.0</td>\n",
       "      <td>5.000000e+00</td>\n",
       "      <td>5.000000e+00</td>\n",
       "      <td>1.000000e+01</td>\n",
       "    </tr>\n",
       "    <tr>\n",
       "      <th>fea_8</th>\n",
       "      <td>1125.0</td>\n",
       "      <td>1.008027e+02</td>\n",
       "      <td>1.198896e+01</td>\n",
       "      <td>64.0</td>\n",
       "      <td>90.0</td>\n",
       "      <td>1.050000e+02</td>\n",
       "      <td>1.110000e+02</td>\n",
       "      <td>1.150000e+02</td>\n",
       "    </tr>\n",
       "    <tr>\n",
       "      <th>fea_9</th>\n",
       "      <td>1125.0</td>\n",
       "      <td>4.195556e+00</td>\n",
       "      <td>8.556790e-01</td>\n",
       "      <td>1.0</td>\n",
       "      <td>3.0</td>\n",
       "      <td>4.000000e+00</td>\n",
       "      <td>5.000000e+00</td>\n",
       "      <td>5.000000e+00</td>\n",
       "    </tr>\n",
       "    <tr>\n",
       "      <th>fea_10</th>\n",
       "      <td>1125.0</td>\n",
       "      <td>1.646185e+05</td>\n",
       "      <td>1.525205e+05</td>\n",
       "      <td>60000.0</td>\n",
       "      <td>60044.0</td>\n",
       "      <td>7.200000e+04</td>\n",
       "      <td>1.513070e+05</td>\n",
       "      <td>6.500700e+05</td>\n",
       "    </tr>\n",
       "    <tr>\n",
       "      <th>fea_11</th>\n",
       "      <td>1125.0</td>\n",
       "      <td>1.349990e+02</td>\n",
       "      <td>1.126168e+02</td>\n",
       "      <td>1.0</td>\n",
       "      <td>1.0</td>\n",
       "      <td>1.732051e+02</td>\n",
       "      <td>2.024846e+02</td>\n",
       "      <td>7.071068e+02</td>\n",
       "    </tr>\n",
       "  </tbody>\n",
       "</table>\n",
       "</div>"
      ],
      "text/plain": [
       "         count          mean           std         min         25%  \\\n",
       "label   1125.0  2.000000e-01  4.001779e-01         0.0         0.0   \n",
       "id      1125.0  5.783677e+07  1.817150e+06  54982353.0  54990497.0   \n",
       "fea_1   1125.0  5.482667e+00  1.383338e+00         1.0         4.0   \n",
       "fea_2    976.0  1.283911e+03  5.176402e+01      1116.5      1244.0   \n",
       "fea_3   1125.0  2.333333e+00  8.787730e-01         1.0         1.0   \n",
       "fea_4   1125.0  1.208836e+05  8.844523e+04     15000.0     72000.0   \n",
       "fea_5   1125.0  1.928889e+00  2.571247e-01         1.0         2.0   \n",
       "fea_6   1125.0  1.087200e+01  2.676437e+00         3.0         8.0   \n",
       "fea_7   1125.0  4.832889e+00  2.971182e+00        -1.0         5.0   \n",
       "fea_8   1125.0  1.008027e+02  1.198896e+01        64.0        90.0   \n",
       "fea_9   1125.0  4.195556e+00  8.556790e-01         1.0         3.0   \n",
       "fea_10  1125.0  1.646185e+05  1.525205e+05     60000.0     60044.0   \n",
       "fea_11  1125.0  1.349990e+02  1.126168e+02         1.0         1.0   \n",
       "\n",
       "                 50%           75%           max  \n",
       "label   0.000000e+00  0.000000e+00  1.000000e+00  \n",
       "id      5.898975e+07  5.899799e+07  5.900624e+07  \n",
       "fea_1   5.000000e+00  7.000000e+00  7.000000e+00  \n",
       "fea_2   1.281500e+03  1.314500e+03  1.481000e+03  \n",
       "fea_3   3.000000e+00  3.000000e+00  3.000000e+00  \n",
       "fea_4   1.020000e+05  1.390000e+05  1.200000e+06  \n",
       "fea_5   2.000000e+00  2.000000e+00  2.000000e+00  \n",
       "fea_6   1.100000e+01  1.100000e+01  1.600000e+01  \n",
       "fea_7   5.000000e+00  5.000000e+00  1.000000e+01  \n",
       "fea_8   1.050000e+02  1.110000e+02  1.150000e+02  \n",
       "fea_9   4.000000e+00  5.000000e+00  5.000000e+00  \n",
       "fea_10  7.200000e+04  1.513070e+05  6.500700e+05  \n",
       "fea_11  1.732051e+02  2.024846e+02  7.071068e+02  "
      ]
     },
     "execution_count": 31,
     "metadata": {},
     "output_type": "execute_result"
    }
   ],
   "source": [
    "df.describe().T\n",
    "# Daha okunabilirliligi arttirmak icin kullaniyoruz."
   ]
  },
  {
   "cell_type": "code",
   "execution_count": 33,
   "id": "1b65d1fc-2a29-41ed-a7e1-6d9920a3394d",
   "metadata": {},
   "outputs": [
    {
     "data": {
      "text/plain": [
       "(1283.9113729508197, 1281.5)"
      ]
     },
     "execution_count": 33,
     "metadata": {},
     "output_type": "execute_result"
    }
   ],
   "source": [
    "df.fea_2.mean(), df.fea_2.median()"
   ]
  },
  {
   "cell_type": "markdown",
   "id": "3e398d47-ec65-47e6-9546-eb4abe244bcd",
   "metadata": {},
   "source": [
    "Bu iki değer, **\"fea_2\"** sütunundaki verilerin merkezi eğilimini anlamamıza yardımcı olur. Örneğin, burada ortalamaya yakın bir medyan değeri var, bu da bu sütunun dağılımının ortalamaya yakın simetrik bir şekilde olduğunu gösterebilir."
   ]
  },
  {
   "cell_type": "code",
   "execution_count": 38,
   "id": "2e0f9e34-ef59-4ed4-bcb5-977bdaee6781",
   "metadata": {},
   "outputs": [
    {
     "data": {
      "text/plain": [
       "0       1\n",
       "1       0\n",
       "2       0\n",
       "3       1\n",
       "4       0\n",
       "       ..\n",
       "1120    0\n",
       "1121    0\n",
       "1122    0\n",
       "1123    0\n",
       "1124    0\n",
       "Name: label, Length: 1125, dtype: int64"
      ]
     },
     "execution_count": 38,
     "metadata": {},
     "output_type": "execute_result"
    }
   ],
   "source": [
    "df.label"
   ]
  },
  {
   "cell_type": "code",
   "execution_count": 36,
   "id": "6563938f-8761-4e94-ac36-8dfdded06a21",
   "metadata": {},
   "outputs": [
    {
     "data": {
      "text/plain": [
       "label     0\n",
       "id        0\n",
       "fea_1     0\n",
       "fea_2     0\n",
       "fea_3     0\n",
       "fea_4     0\n",
       "fea_5     0\n",
       "fea_6     0\n",
       "fea_7     0\n",
       "fea_8     0\n",
       "fea_9     0\n",
       "fea_10    0\n",
       "fea_11    0\n",
       "dtype: int64"
      ]
     },
     "execution_count": 36,
     "metadata": {},
     "output_type": "execute_result"
    }
   ],
   "source": [
    "df.fea_2.fillna(df.fea_2.mean(), inplace=True)\n",
    "df.isna().sum()"
   ]
  },
  {
   "cell_type": "markdown",
   "id": "4763cb67-6826-44b9-9c79-b73f8d088615",
   "metadata": {},
   "source": [
    "Boş değerleri, **fea_2** sütunundaki ortalamayla doldurduktan sonra **isna().sum()** metodunu kullanarak veri setindeki toplam eksik değerleri kontrol etmişsin. Gördüğün gibi, **fea_2** sütununda artık **eksik değer kalmamış**, her hücre dolu."
   ]
  },
  {
   "cell_type": "code",
   "execution_count": 41,
   "id": "4851924b-772c-4e11-8948-39b29b971003",
   "metadata": {},
   "outputs": [
    {
     "data": {
      "text/plain": [
       "0    900\n",
       "1    225\n",
       "Name: label, dtype: int64"
      ]
     },
     "execution_count": 41,
     "metadata": {},
     "output_type": "execute_result"
    }
   ],
   "source": [
    "df.label.value_counts()"
   ]
  },
  {
   "cell_type": "markdown",
   "id": "3daa9fef-0af3-44e7-ac33-f771cdea9bfd",
   "metadata": {},
   "source": [
    "**label** sutununda 2 tane deger var -> **0, 1**  \n",
    "0'dan 900 tane, 1'den 225 tane. Bu veri bizim **label** sutunundaki sinif dagilimini gosteriyor.\n",
    "Siniflar arasinda ise buyuk bir dengesizlik var, model egitimi yapilirken ve performans beklenirken sorunlar yaratabilir. Cunku model, verisi cok olan sutuna daha fazla egilimde gosterir. Modelimiz ise daha sonra yaniltici veriler uretir. \n",
    "Modelin dengeli bir veri uretimi saglanmasi icin de bu dengesizligi duzelten islemler yapmaliyiz."
   ]
  },
  {
   "cell_type": "code",
   "execution_count": 44,
   "id": "dc997038-1155-4959-b750-432e626d387f",
   "metadata": {},
   "outputs": [
    {
     "data": {
      "text/plain": [
       "<AxesSubplot:title={'center':'Risk Dağılım Grafiği'}>"
      ]
     },
     "execution_count": 44,
     "metadata": {},
     "output_type": "execute_result"
    },
    {
     "data": {
      "image/png": "[encoded data removed]",
      "text/plain": [
       "<Figure size 432x288 with 1 Axes>"
      ]
     },
     "metadata": {
      "needs_background": "light"
     },
     "output_type": "display_data"
    }
   ],
   "source": [
    "import seaborn as sns\n",
    "import matplotlib.pyplot as plt\n",
    "\n",
    "label_count = pd.DataFrame(\n",
    "    {\n",
    "        \"Risk_Duzeyi\":df.label.value_counts().index,\n",
    "        \"Toplam_Sayi\":df.label.value_counts().values\n",
    "    }\n",
    ")\n",
    "\n",
    "plt.title(\"Risk Dağılım Grafiği\")\n",
    "#sns.barplot(data=label_count, x=\"Risk_Duzeyi\", y=\"Toplam_Sayi\", hue=\"Risk_Duzeyi\")\n",
    "sns.barplot(x=df.label.value_counts().index, \n",
    "            y=df.label.value_counts().values,hue=df.label.value_counts().index)\n"
   ]
  },
  {
   "cell_type": "markdown",
   "id": "cef986c7-3790-4660-91dc-a4b165ef39f5",
   "metadata": {},
   "source": [
    "Bu kod, veri setinizdeki **\"label\"** sütununda bulunan farklı değerlerin **sayısını hesaplar**. Bu değerlerin her birini, **\"Risk_Duzeyi\"** olarak ve her bir değerin kaç kez geçtiğini, **\"Toplam_Sayi\"** olarak içeren bir veri çerçevesi oluşturur. Ardından, bu verileri kullanarak **bir çubuk grafiği** oluşturur.\n",
    "\n",
    "**hue=df.label.value_counts().index** olarak belirtilmiş. Bu, label sütunundaki farklı değerleri temsil eder ve her bir değer için farklı bir renk atanmasını sağlar. Örneğin, 0 ve 1 gibi iki farklı etiket varsa, her bir etiket farklı bir renkte gösterilebilir."
   ]
  },
  {
   "cell_type": "code",
   "execution_count": 47,
   "id": "fee1cb9f-c613-4e62-bd6b-31de6b4b9ab2",
   "metadata": {},
   "outputs": [
    {
     "data": {
      "text/plain": [
       "0       1\n",
       "1       0\n",
       "2       0\n",
       "3       1\n",
       "4       0\n",
       "       ..\n",
       "1120    0\n",
       "1121    0\n",
       "1122    0\n",
       "1123    0\n",
       "1124    0\n",
       "Name: label, Length: 1125, dtype: int64"
      ]
     },
     "execution_count": 47,
     "metadata": {},
     "output_type": "execute_result"
    }
   ],
   "source": [
    "df.label"
   ]
  },
  {
   "cell_type": "code",
   "execution_count": 49,
   "id": "3f3cb859-fc4c-4bea-834f-6c175418a3e0",
   "metadata": {},
   "outputs": [
    {
     "data": {
      "text/html": [
       "<div>\n",
       "<style scoped>\n",
       "    .dataframe tbody tr th:only-of-type {\n",
       "        vertical-align: middle;\n",
       "    }\n",
       "\n",
       "    .dataframe tbody tr th {\n",
       "        vertical-align: top;\n",
       "    }\n",
       "\n",
       "    .dataframe thead th {\n",
       "        text-align: right;\n",
       "    }\n",
       "</style>\n",
       "<table border=\"1\" class=\"dataframe\">\n",
       "  <thead>\n",
       "    <tr style=\"text-align: right;\">\n",
       "      <th></th>\n",
       "      <th>id</th>\n",
       "      <th>fea_1</th>\n",
       "      <th>fea_2</th>\n",
       "      <th>fea_3</th>\n",
       "      <th>fea_4</th>\n",
       "      <th>fea_5</th>\n",
       "      <th>fea_6</th>\n",
       "      <th>fea_7</th>\n",
       "      <th>fea_8</th>\n",
       "      <th>fea_9</th>\n",
       "      <th>fea_10</th>\n",
       "      <th>fea_11</th>\n",
       "    </tr>\n",
       "  </thead>\n",
       "  <tbody>\n",
       "    <tr>\n",
       "      <th>0</th>\n",
       "      <td>54982665</td>\n",
       "      <td>5</td>\n",
       "      <td>1245.500000</td>\n",
       "      <td>3</td>\n",
       "      <td>77000.0</td>\n",
       "      <td>2</td>\n",
       "      <td>15</td>\n",
       "      <td>5</td>\n",
       "      <td>109</td>\n",
       "      <td>5</td>\n",
       "      <td>151300</td>\n",
       "      <td>244.948974</td>\n",
       "    </tr>\n",
       "    <tr>\n",
       "      <th>1</th>\n",
       "      <td>59004779</td>\n",
       "      <td>4</td>\n",
       "      <td>1277.000000</td>\n",
       "      <td>1</td>\n",
       "      <td>113000.0</td>\n",
       "      <td>2</td>\n",
       "      <td>8</td>\n",
       "      <td>-1</td>\n",
       "      <td>100</td>\n",
       "      <td>3</td>\n",
       "      <td>341759</td>\n",
       "      <td>207.173840</td>\n",
       "    </tr>\n",
       "    <tr>\n",
       "      <th>2</th>\n",
       "      <td>58990862</td>\n",
       "      <td>7</td>\n",
       "      <td>1298.000000</td>\n",
       "      <td>1</td>\n",
       "      <td>110000.0</td>\n",
       "      <td>2</td>\n",
       "      <td>11</td>\n",
       "      <td>-1</td>\n",
       "      <td>101</td>\n",
       "      <td>5</td>\n",
       "      <td>72001</td>\n",
       "      <td>1.000000</td>\n",
       "    </tr>\n",
       "    <tr>\n",
       "      <th>3</th>\n",
       "      <td>58995168</td>\n",
       "      <td>7</td>\n",
       "      <td>1335.500000</td>\n",
       "      <td>1</td>\n",
       "      <td>151000.0</td>\n",
       "      <td>2</td>\n",
       "      <td>11</td>\n",
       "      <td>5</td>\n",
       "      <td>110</td>\n",
       "      <td>3</td>\n",
       "      <td>60084</td>\n",
       "      <td>1.000000</td>\n",
       "    </tr>\n",
       "    <tr>\n",
       "      <th>4</th>\n",
       "      <td>54987320</td>\n",
       "      <td>7</td>\n",
       "      <td>1283.911373</td>\n",
       "      <td>2</td>\n",
       "      <td>59000.0</td>\n",
       "      <td>2</td>\n",
       "      <td>11</td>\n",
       "      <td>5</td>\n",
       "      <td>108</td>\n",
       "      <td>4</td>\n",
       "      <td>450081</td>\n",
       "      <td>197.403141</td>\n",
       "    </tr>\n",
       "    <tr>\n",
       "      <th>...</th>\n",
       "      <td>...</td>\n",
       "      <td>...</td>\n",
       "      <td>...</td>\n",
       "      <td>...</td>\n",
       "      <td>...</td>\n",
       "      <td>...</td>\n",
       "      <td>...</td>\n",
       "      <td>...</td>\n",
       "      <td>...</td>\n",
       "      <td>...</td>\n",
       "      <td>...</td>\n",
       "      <td>...</td>\n",
       "    </tr>\n",
       "    <tr>\n",
       "      <th>1120</th>\n",
       "      <td>58988196</td>\n",
       "      <td>5</td>\n",
       "      <td>1289.000000</td>\n",
       "      <td>1</td>\n",
       "      <td>173000.0</td>\n",
       "      <td>2</td>\n",
       "      <td>15</td>\n",
       "      <td>5</td>\n",
       "      <td>112</td>\n",
       "      <td>3</td>\n",
       "      <td>350702</td>\n",
       "      <td>200.000000</td>\n",
       "    </tr>\n",
       "    <tr>\n",
       "      <th>1121</th>\n",
       "      <td>58987926</td>\n",
       "      <td>5</td>\n",
       "      <td>1283.911373</td>\n",
       "      <td>2</td>\n",
       "      <td>50000.0</td>\n",
       "      <td>2</td>\n",
       "      <td>15</td>\n",
       "      <td>5</td>\n",
       "      <td>108</td>\n",
       "      <td>4</td>\n",
       "      <td>450000</td>\n",
       "      <td>169.000000</td>\n",
       "    </tr>\n",
       "    <tr>\n",
       "      <th>1122</th>\n",
       "      <td>58995381</td>\n",
       "      <td>7</td>\n",
       "      <td>1220.000000</td>\n",
       "      <td>3</td>\n",
       "      <td>76000.0</td>\n",
       "      <td>2</td>\n",
       "      <td>11</td>\n",
       "      <td>2</td>\n",
       "      <td>90</td>\n",
       "      <td>5</td>\n",
       "      <td>71002</td>\n",
       "      <td>1.000000</td>\n",
       "    </tr>\n",
       "    <tr>\n",
       "      <th>1123</th>\n",
       "      <td>58998054</td>\n",
       "      <td>4</td>\n",
       "      <td>1250.000000</td>\n",
       "      <td>3</td>\n",
       "      <td>137000.0</td>\n",
       "      <td>2</td>\n",
       "      <td>8</td>\n",
       "      <td>5</td>\n",
       "      <td>90</td>\n",
       "      <td>5</td>\n",
       "      <td>72000</td>\n",
       "      <td>1.000000</td>\n",
       "    </tr>\n",
       "    <tr>\n",
       "      <th>1124</th>\n",
       "      <td>54989781</td>\n",
       "      <td>4</td>\n",
       "      <td>1415.000000</td>\n",
       "      <td>3</td>\n",
       "      <td>93000.0</td>\n",
       "      <td>2</td>\n",
       "      <td>8</td>\n",
       "      <td>5</td>\n",
       "      <td>113</td>\n",
       "      <td>4</td>\n",
       "      <td>151300</td>\n",
       "      <td>273.861279</td>\n",
       "    </tr>\n",
       "  </tbody>\n",
       "</table>\n",
       "<p>1125 rows × 12 columns</p>\n",
       "</div>"
      ],
      "text/plain": [
       "            id  fea_1        fea_2  fea_3     fea_4  fea_5  fea_6  fea_7  \\\n",
       "0     54982665      5  1245.500000      3   77000.0      2     15      5   \n",
       "1     59004779      4  1277.000000      1  113000.0      2      8     -1   \n",
       "2     58990862      7  1298.000000      1  110000.0      2     11     -1   \n",
       "3     58995168      7  1335.500000      1  151000.0      2     11      5   \n",
       "4     54987320      7  1283.911373      2   59000.0      2     11      5   \n",
       "...        ...    ...          ...    ...       ...    ...    ...    ...   \n",
       "1120  58988196      5  1289.000000      1  173000.0      2     15      5   \n",
       "1121  58987926      5  1283.911373      2   50000.0      2     15      5   \n",
       "1122  58995381      7  1220.000000      3   76000.0      2     11      2   \n",
       "1123  58998054      4  1250.000000      3  137000.0      2      8      5   \n",
       "1124  54989781      4  1415.000000      3   93000.0      2      8      5   \n",
       "\n",
       "      fea_8  fea_9  fea_10      fea_11  \n",
       "0       109      5  151300  244.948974  \n",
       "1       100      3  341759  207.173840  \n",
       "2       101      5   72001    1.000000  \n",
       "3       110      3   60084    1.000000  \n",
       "4       108      4  450081  197.403141  \n",
       "...     ...    ...     ...         ...  \n",
       "1120    112      3  350702  200.000000  \n",
       "1121    108      4  450000  169.000000  \n",
       "1122     90      5   71002    1.000000  \n",
       "1123     90      5   72000    1.000000  \n",
       "1124    113      4  151300  273.861279  \n",
       "\n",
       "[1125 rows x 12 columns]"
      ]
     },
     "execution_count": 49,
     "metadata": {},
     "output_type": "execute_result"
    }
   ],
   "source": [
    "X = df.drop(\"label\", axis=1)\n",
    "X"
   ]
  },
  {
   "cell_type": "code",
   "execution_count": 51,
   "id": "c2ad6946-d6c7-41af-af54-482c9bf2860a",
   "metadata": {},
   "outputs": [],
   "source": [
    "X = df.drop(\"label\", axis=1)\n",
    "y = df.label"
   ]
  },
  {
   "cell_type": "markdown",
   "id": "bcba6eaa-2505-4d5c-a2aa-cbb433fc523f",
   "metadata": {},
   "source": [
    "**X = df.drop(\"label\", axis=1):** Bu satır, **\"label\"** sütununu **hedef değişken** olarak kabul edip, geri kalan **tüm sütunları (bağımsız değişkenleri)** içeren bir veri seti oluşturur. drop fonksiyonu, \"label\" sütununu (axis=1 ile sütun olarak belirtilmiş) veri setinden çıkarır ve geri kalan tüm sütunları X adlı değişkene atar. Yani, X veri çerçevesi bağımsız değişkenleri içerir.\n",
    "\n",
    "**y = df.label:** Bu satır, **\"label\"** sütununu (**bu durumda tahmin edilmek istenen değerler**) içeren veri setini **y** adlı değişkene atar. Bu, genellikle makine öğrenimi modellerinde **tahmin edilmek istenen hedef değişkeni** temsil eder."
   ]
  },
  {
   "cell_type": "code",
   "execution_count": 54,
   "id": "a2fb6c26-af62-44f9-acd3-6d6ecfa88c37",
   "metadata": {},
   "outputs": [
    {
     "data": {
      "text/plain": [
       "0       1\n",
       "1       0\n",
       "2       0\n",
       "3       1\n",
       "4       0\n",
       "       ..\n",
       "1120    0\n",
       "1121    0\n",
       "1122    0\n",
       "1123    0\n",
       "1124    0\n",
       "Name: label, Length: 1125, dtype: int64"
      ]
     },
     "execution_count": 54,
     "metadata": {},
     "output_type": "execute_result"
    }
   ],
   "source": [
    "y"
   ]
  },
  {
   "cell_type": "code",
   "execution_count": 56,
   "id": "84d11034-e4ff-4cd1-9013-3b5c5a87a2ba",
   "metadata": {},
   "outputs": [],
   "source": [
    "# elimizdeki veri setini egitim ve test icin bolmus olduk. Modeli daha egitmedik.\n",
    "from sklearn.model_selection import train_test_split\n",
    "\n",
    "X_train, X_test, y_train, y_test = train_test_split(X, y, test_size=0.2,\n",
    "                                                   random_state=42,\n",
    "                                                   stratify=y)"
   ]
  },
  {
   "cell_type": "markdown",
   "id": "86de0185-340f-4ee4-bf39-ac4a26cd94d9",
   "metadata": {},
   "source": [
    "Bu kod, veri setini **eğitim** ve **test** alt kümelerine bölmek için kullanılır.  \n",
    "* **train_test_split()** fonksiyonu, veri setini **bağımsız değişkenler (X)** ve **hedef           değişken (y)** olmak üzere iki farklı kısma böler.  \n",
    "* **test_size=0.2** parametresi, veri setinin ne kadarının **test** seti olarak ayrılacağını belirtir. Bu durumda, veri setinin **%20'si** test seti olarak ayrılacaktır.\n",
    "* **random_state=42** parametresi, veri setini rastgele bölerken kullanılacak olan rastgelelik durumunu belirler. Bu sayede işlemi tekrarladığınızda aynı rastgele bölme elde edilir, sonuçların tekrarlanabilir olmasını sağlar.\n",
    "* **stratify=y** parametresi, veri setinin dengesiz sınıflara sahip olması durumunda sınıf dengesizliğini korumak için kullanılır. Burada y (hedef değişken) tarafından belirtilen sınıf oranlarını eğitim ve test setlerinde korur.\n",
    "**stratify** parametresi, genellikle **sınıflandırma problemlerinde** kullanılır. Özellikle **dengesiz sınıflara sahip veri setlerinde**, sınıf dengesizliğini korumak için oldukça önemlidir.\n",
    "\n",
    "Sınıf dengesizliği, bir sınıfın diğerlerine göre **çok daha fazla temsil edilmesi** veya **az temsil edilmesi** durumudur. Örneğin, hastalık tespiti gibi durumlarda hastalıklı insanlar genellikle sağlıklı insanlara göre daha azdır. Eğer veri setindeki hastalıklı hastalar az temsil edilirse (örneğin, yalnızca %5), model hastalıklı olmayanları çok iyi tahmin edebilirken, hastalıklı olanları doğru bir şekilde tahmin etmekte zorlanabilir.\n",
    "\n",
    "Bu durumu önlemek için **stratify parametresi**, hedef değişkenin (genellikle y) sınıf dağılımını korur. **train_test_split** fonksiyonu, veri setini bölmeden önce her iki alt kümede de orijinal veri setindeki sınıf oranlarını koruyacak şekilde böler. Yani, eğitim ve test setleri oluşturulurken her iki alt kümede de sınıf dağılımı oranı, ana veri setiyle aynı olur. Bu, modelin her iki veri setinde de eğitilirken, her sınıfın temsil edilme oranının korunmasını sağlar. Bu da modelin her sınıf için daha dengeli bir şekilde eğitilmesine olanak tanır ve daha iyi genelleme yapmasına yardımcı olabilir."
   ]
  },
  {
   "cell_type": "code",
   "execution_count": 59,
   "id": "97eb1b3c-df8d-4a9c-8656-d7158df35ff9",
   "metadata": {},
   "outputs": [
    {
     "data": {
      "text/plain": [
       "RandomForestClassifier()"
      ]
     },
     "execution_count": 59,
     "metadata": {},
     "output_type": "execute_result"
    }
   ],
   "source": [
    "from sklearn.ensemble import RandomForestClassifier\n",
    "\n",
    "model_rf = RandomForestClassifier()\n",
    "model_rf.fit(X_train, y_train)"
   ]
  },
  {
   "cell_type": "markdown",
   "id": "512f7dbe-e57d-4c38-a014-73d56b78ec23",
   "metadata": {},
   "source": [
    "Bu kodda **RandomForestClassifier** sınıfından bir model oluşturup ardından bu modeli eğittiniz. **RandomForestClassifier**, rastgele **orman algoritmasını** kullanan bir sınıflandırma modelidir.\n",
    "\n",
    "**model_rf = RandomForestClassifier()** ile bir rastgele **orman modeli** oluşturuldu ve daha sonra **model_rf.fit(X_train, y_train)** komutuyla bu model, **eğitim veri seti (X_train ve y_train)** üzerinde eğitildi. **fit fonksiyonu**, modelin **veriyi kullanarak içsel olarak parametrelerini ayarladığı** ve v**eriyi temsil eden bir yapı oluşturduğu aşamadır**. Eğitim süreci, modelin veriler arasındaki ilişkileri öğrenmesini sağlar, böylece daha sonra **test veri seti** üzerinde doğru tahminler yapabilir."
   ]
  },
  {
   "cell_type": "code",
   "execution_count": 62,
   "id": "583d0814-7829-4847-aea4-96679fbe0a29",
   "metadata": {},
   "outputs": [
    {
     "name": "stdout",
     "output_type": "stream",
     "text": [
      "              precision    recall  f1-score   support\n",
      "\n",
      "           0       0.80      0.96      0.87       180\n",
      "           1       0.22      0.04      0.07        45\n",
      "\n",
      "    accuracy                           0.78       225\n",
      "   macro avg       0.51      0.50      0.47       225\n",
      "weighted avg       0.69      0.78      0.71       225\n",
      "\n"
     ]
    }
   ],
   "source": [
    "from sklearn.metrics import classification_report, confusion_matrix\n",
    "\n",
    "print(classification_report(y_test, model_rf.predict(X_test)))"
   ]
  },
  {
   "cell_type": "markdown",
   "id": "fbd0cb83-0df4-4e91-9aa7-3ade1a70232b",
   "metadata": {},
   "source": [
    "**classification_report**, doğruluk, hassasiyet, duyarlılık (recall), F1 skoru ve destek (support) gibi değerleri içeren bir rapor sunar.\n",
    "**y_test**, gerçek etiketlerin olduğu test seti verileri.\n",
    "**model_rf.predict(X_test)**, modelin test seti üzerindeki tahminlerini yapar.\n",
    "\n",
    "**classification_report** \n",
    "\n",
    "    True Positive (TP): Gerçek değeri pozitif olan ve model tarafından doğru bir şekilde pozitif olarak tahmin edilen örnekler.\n",
    "    False Positive (FP): Gerçek değeri negatif olan ancak model tarafından yanlış bir şekilde pozitif olarak tahmin edilen örnekler.\n",
    "    True Negative (TN): Gerçek değeri negatif olan ve model tarafından doğru bir şekilde negatif olarak tahmin edilen örnekler.\n",
    "    False Negative (FN): Gerçek değeri pozitif olan ancak model tarafından yanlış bir şekilde negatif olarak tahmin edilen örnekler.\n",
    "    \n",
    "                        Predicted Positive    Predicted Negativie\n",
    "    Actual Positive           TP                     FN\n",
    "    Actual Negative           FP                     TN\n",
    "    \n",
    "**Hassasiyet (Precision):** Bu, modelin pozitif olarak tahmin ettiği örneklerin gerçekten pozitif olanların oranını ifade eder. Yani, modelin doğru pozitif tahminlerinin, tüm pozitif olarak tahmin edilen örneklerin oranıdır. Formülü şu şekildedir:\n",
    "\n",
    "                    TP\n",
    "    Precision = ----------\n",
    "                 TP + FP\n",
    "    \n",
    "**Duyarlılık (Recall):** Bu, gerçek pozitiflerin, modelin doğru bir şekilde pozitif olarak tahmin ettiği örneklerin oranını gösterir. Yani, gerçekten pozitif olan örneklerin, modelin tüm pozitif olarak tahmin ettiği örneklerin içinde ne kadarının doğru bir şekilde tanımlandığını gösterir. Formülü şu şekildedir\n",
    "\n",
    "                   TP\n",
    "    Recall = -------------\n",
    "                TP + FN\n",
    "                \n",
    "**F1-score**, özellikle dengesiz sınıf dağılımlarına sahip veri setlerinde model performansını değerlendirmek için önemli bir metriktir. Bu ölçüm, precision ve recall arasındaki dengeyi sağlar.\n",
    "\n",
    "Eğer sınıflar arasında dengesizlik varsa (örneğin, bir sınıf diğerine göre çok daha az örneğe sahipse), doğruluk oranı yetersiz bir performans gösterebilir. F1-score, precision ve recall metriklerini birleştirerek, dengeli bir değerlendirme sunar. Eğer hem precision hem de recall yüksekse, F1-score da yüksek olacaktır. Ancak, bu metriklerden biri diğerine göre çok daha düşükse, F1-score da düşük olur. Bu nedenle, dengesiz veri setlerinde model performansının daha iyi bir ölçütü olarak kullanılabilir.\n",
    "\n",
    "                Precision x Recall\n",
    "    F1-Score = ----------------------\n",
    "                Precision + Recall\n",
    "**support**, her bir sınıf için veri setindeki gerçek örnek sayısını temsil eder. Formülü yoktur, bu sadece her bir sınıfın veri setindeki gözlemlenen örnek sayısını ifade eder. Sınıf dengesizliği durumunda, her bir sınıfın support değeri farklı olabilir. Özellikle çok az örneğe sahip sınıflar, modelin bu sınıfı öğrenme yeteneğini etkileyebilir. Bu durumda, modelin daha az destekle karşılaştığı sınıfların performansı daha düşük olabilir. support metriği, her sınıfın model performansını değerlendirirken göz önünde bulundurulmasına yardımcı olur.\n",
    "\n",
    "\n",
    "**Macro Average:**\n",
    "    Sınıf bazında hesaplanan metriklerin (precision, recall, f1-score gibi) ortalaması alınır. Her sınıfın metriği eşit ağırlıkta değerlendirilir.\n",
    "\n",
    "**Weighted Average:**\n",
    "    Sınıf bazında hesaplanan metriklerin (precision, recall, f1-score gibi) ağırlıklı ortalaması alınır. Bu ağırlıklar, sınıfların veri setindeki örnek sayılarına göre belirlenir. Büyük sınıfların performansı daha fazla etkiler.\n",
    "    "
   ]
  },
  {
   "cell_type": "code",
   "execution_count": 65,
   "id": "5b7277cd-4a8e-424a-8c6d-b1748a7a04af",
   "metadata": {},
   "outputs": [
    {
     "name": "stdout",
     "output_type": "stream",
     "text": [
      "              precision    recall  f1-score   support\n",
      "\n",
      "           0       0.80      0.96      0.87       180\n",
      "           1       0.22      0.04      0.07        45\n",
      "\n",
      "    accuracy                           0.78       225\n",
      "   macro avg       0.51      0.50      0.47       225\n",
      "weighted avg       0.69      0.78      0.71       225\n",
      "\n"
     ]
    }
   ],
   "source": [
    "from sklearn.metrics import classification_report, confusion_matrix\n",
    "\n",
    "print(classification_report(y_test, model_rf.predict(X_test)))"
   ]
  },
  {
   "cell_type": "markdown",
   "id": "b02bbab6-8dd1-4e88-acb0-6d1c6d98fcae",
   "metadata": {},
   "source": [
    "    Precision (Hassasiyet): Belirli bir sınıfa ait tahmin edilen pozitif değerlerin ne kadarının gerçekten doğru olduğunu gösterir. Yani, bu durumda \"1\" sınıfı için, modelin tahmin ettiği \"1\" değerlerinin ne kadarının gerçekten \"1\" olduğunu gösterir. 0.25 değeri, \"1\" olarak tahmin edilenlerin sadece %25'inin gerçekten \"1\" olduğunu gösterir.\n",
    "\n",
    "    Recall (Duyarlılık): Gerçek pozitiflerin ne kadarının doğru bir şekilde saptandığını gösterir. Yani, bu durumda \"1\" sınıfı için, gerçek \"1\" değerlerinin ne kadarının doğru bir şekilde tahmin edildiğini ifade eder. 0.04 değeri, gerçek \"1\" değerlerinin sadece %4'ünün doğru bir şekilde tahmin edildiğini belirtir.\n",
    "\n",
    "    F1-Score: Precision ve recall metriklerinin harmonik ortalamasıdır. Daha düşük bir precision veya recall, düşük bir F1-score'a yol açabilir. F1-score, dengeli bir performans göstergesidir.\n",
    "\n",
    "    Accuracy (Doğruluk): Toplam doğru tahminlerin oranını ifade eder. Bu durumda, tüm tahminlerin %78'inin doğru olduğunu gösterir.\n",
    "\n",
    "    Macro Avg (Makro Ortalama): Her sınıfın metriklerinin (precision, recall, f1-score) sınıflar arasında eşit ağırlıklı ortalama değeridir. Macro avg, dengesiz veri setleri için daha iyi bir performans ölçüsü sağlar.\n",
    "\n",
    "    Weighted Avg (Ağırlıklı Ortalama): Her sınıfın metriklerinin (precision, recall, f1-score) sınıfların örnek sayılarına göre ağırlıklı ortalamasıdır. Bu durumda, büyük sınıfların performansı daha fazla etkilemiş olabilir. Bu, dengesiz sınıflandırma problemleri için daha uygun bir metriktir."
   ]
  },
  {
   "cell_type": "code",
   "execution_count": null,
   "id": "d0a27805-edb3-4fa2-b76e-da0611ca5941",
   "metadata": {},
   "outputs": [
    {
     "data": {
      "text/plain": [
       "<AxesSubplot:>"
      ]
     },
     "execution_count": 68,
     "metadata": {},
     "output_type": "execute_result"
    },
    {
     "data": {
      "image/png": "[encoded data removed]",
      "text/plain": [
       "<Figure size 432x288 with 2 Axes>"
      ]
     },
     "metadata": {
      "needs_background": "light"
     },
     "output_type": "display_data"
    }
   ],
   "source": [
    "sns.heatmap(confusion_matrix(y_test, model_rf.predict(X_test)),\n",
    "           annot=True, fmt=\".1f\")"
   ]
  },
  {
   "cell_type": "code",
   "execution_count": 70,
   "id": "d038bb8a-3c70-452b-ba55-f4275c99bf97",
   "metadata": {},
   "outputs": [
    {
     "data": {
      "text/plain": [
       "DecisionTreeClassifier()"
      ]
     },
     "execution_count": 70,
     "metadata": {},
     "output_type": "execute_result"
    }
   ],
   "source": [
    "from sklearn.tree import DecisionTreeClassifier\n",
    "\n",
    "model_tree = DecisionTreeClassifier()\n",
    "model_tree.fit(X_train, y_train)"
   ]
  },
  {
   "cell_type": "code",
   "execution_count": 72,
   "id": "16068c7b-a1b8-447a-a96c-b2ab1cb42f32",
   "metadata": {},
   "outputs": [
    {
     "name": "stdout",
     "output_type": "stream",
     "text": [
      "              precision    recall  f1-score   support\n",
      "\n",
      "           0       0.82      0.78      0.80       180\n",
      "           1       0.26      0.31      0.28        45\n",
      "\n",
      "    accuracy                           0.68       225\n",
      "   macro avg       0.54      0.54      0.54       225\n",
      "weighted avg       0.71      0.68      0.69       225\n",
      "\n"
     ]
    }
   ],
   "source": [
    "print(classification_report(y_test, model_tree.predict(X_test)))"
   ]
  },
  {
   "cell_type": "code",
   "execution_count": 88,
   "id": "11bc7f22-5c28-42de-af27-81b085cf6c26",
   "metadata": {},
   "outputs": [
    {
     "data": {
      "image/png": "[encoded data removed]",
      "text/plain": [
       "<Figure size 432x288 with 2 Axes>"
      ]
     },
     "metadata": {
      "needs_background": "light"
     },
     "output_type": "display_data"
    }
   ],
   "source": [
    "from sklearn.metrics import confusion_matrix\n",
    "import seaborn as sns\n",
    "import matplotlib.pyplot as plt\n",
    "\n",
    "# Karar ağacı modelinin tahminlerini elde etme\n",
    "y_pred_tree = model_tree.predict(X_test)\n",
    "\n",
    "# Confusion matrix oluşturma\n",
    "conf_matrix_tree = confusion_matrix(y_test, y_pred_tree)\n",
    "\n",
    "# Heatmap oluşturma\n",
    "plt.figure(figsize=(6, 4))\n",
    "sns.heatmap(conf_matrix_tree, annot=True, fmt=\".0f\")\n",
    "plt.xlabel('Tahmin Edilen Etiket')\n",
    "plt.ylabel('Gerçek Etiket')\n",
    "plt.title('Karar Ağacı Modeli Confusion Matrix İşaretleme')\n",
    "plt.show()\n"
   ]
  },
  {
   "cell_type": "code",
   "execution_count": 74,
   "id": "c37135cd-8d18-41b3-815d-e1d9291c96f2",
   "metadata": {},
   "outputs": [],
   "source": [
    "from imblearn.over_sampling import RandomOverSampler\n",
    "\n"
   ]
  },
  {
   "cell_type": "markdown",
   "id": "00ea3b33-a882-4960-878b-5ce46d2ae191",
   "metadata": {},
   "source": [
    "**\"RandomOverSampler\"** sınıfını içe aktarıyor. Bu kütüphane, dengesiz veri kümeleriyle çalışmayı kolaylaştıran ve sınıf dengesizliğini ele almak için çeşitli teknikler sunan bir pakettir.\n",
    "\n",
    "**\"RandomOverSampler\"**, sınıf dengesizliğini ele almak için bir örnekleme tekniğidir. Bu teknik, azınlık sınıfındaki örneklerin sayısını artırarak (rastgele seçilerek kopyalayarak) veri setindeki sınıf dengesizliğini düzeltebilir. Bu, genellikle azınlık sınıfındaki örneklerin sayısını artırarak veya çoğaltarak yapılan bir örnekleme işlemidir."
   ]
  },
  {
   "cell_type": "code",
   "execution_count": 76,
   "id": "4786ee58-0b8d-4f79-be2d-4e342d3baad9",
   "metadata": {},
   "outputs": [],
   "source": [
    "sampler = RandomOverSampler()\n",
    "X_new, y_new = sampler.fit_resample(X, y)"
   ]
  },
  {
   "cell_type": "markdown",
   "id": "fdceccf3-eae9-405c-8b38-c6401925da58",
   "metadata": {},
   "source": [
    " **fit_resample** fonksiyonu, örnek sayısını artırmak veya azaltmak için bir örnekleme stratejisi uygular.\n",
    "\n",
    "Öncelikle, **RandomOverSampler()** bir sampler nesnesi oluşturur. Daha sonra **fit_resample** yöntemi, X ve y verilerini alarak, X_new ve y_new olarak yeniden örnekleme yapmaktadır. Bu işlem, orijinal veri kümesindeki sınıf dengesizliğini ele almak için azınlık sınıfındaki örnekleri artırırken, çoğunluk sınıfındaki örnekleri azaltır veya değiştirir. "
   ]
  },
  {
   "cell_type": "code",
   "execution_count": 93,
   "id": "13c45624-8974-4536-8e13-e8efe70aa8cb",
   "metadata": {},
   "outputs": [
    {
     "data": {
      "text/plain": [
       "1    900\n",
       "0    900\n",
       "Name: label, dtype: int64"
      ]
     },
     "execution_count": 93,
     "metadata": {},
     "output_type": "execute_result"
    }
   ],
   "source": [
    "y_new.value_counts()"
   ]
  },
  {
   "cell_type": "code",
   "execution_count": 99,
   "id": "5f5e5625-304e-4b11-97c9-dc3b09e7c8a8",
   "metadata": {},
   "outputs": [],
   "source": [
    "X_newtr, X_newts, y_newtr, y_newts = train_test_split(X_new, y_new, test_size=0.2,\n",
    "                                                   random_state=42)"
   ]
  },
  {
   "cell_type": "markdown",
   "id": "5a250034-63bc-4ca7-bcc1-b11045263312",
   "metadata": {},
   "source": [
    "**X_new** ve **y_new** veri setlerini train ve test setlerine bölmek için **train_test_split** işlevini kullanır. **test_size=0.2** parametresi, veri setinin **%20**'sini test seti olarak ayarlar. random_state=42 parametresi ise bölme işleminin rastgele yapılmasını sağlar, bu sayede her çalıştırıldığında aynı rastgele bölme elde edilir. Böylece eğitim ve test verileri rastgele ve dengelenmiş şekilde ayrılır."
   ]
  },
  {
   "cell_type": "code",
   "execution_count": 82,
   "id": "3b2fcd15-3da8-4bdd-8a1d-c8c00e9a67d4",
   "metadata": {},
   "outputs": [
    {
     "data": {
      "text/plain": [
       "RandomForestClassifier()"
      ]
     },
     "execution_count": 82,
     "metadata": {},
     "output_type": "execute_result"
    }
   ],
   "source": [
    "model_rfn = RandomForestClassifier()\n",
    "model_rfn.fit(X_newtr, y_newtr)"
   ]
  },
  {
   "cell_type": "code",
   "execution_count": 84,
   "id": "b1d0d475-c47e-49df-821a-d79c3aefd504",
   "metadata": {},
   "outputs": [
    {
     "name": "stdout",
     "output_type": "stream",
     "text": [
      "              precision    recall  f1-score   support\n",
      "\n",
      "           0       0.93      0.86      0.89       176\n",
      "           1       0.88      0.93      0.91       184\n",
      "\n",
      "    accuracy                           0.90       360\n",
      "   macro avg       0.90      0.90      0.90       360\n",
      "weighted avg       0.90      0.90      0.90       360\n",
      "\n"
     ]
    }
   ],
   "source": [
    "print(classification_report(y_newts, model_rfn.predict(X_newts)))"
   ]
  },
  {
   "cell_type": "markdown",
   "id": "5fb95c6c-e390-4cd0-a7df-8b2591d4521f",
   "metadata": {
    "tags": []
   },
   "source": [
    "    Precision: Doğru pozitif tahminlerin toplam pozitif tahminlere oranıdır. 0 sınıfı için %93, 1 sınıfı için %88.\n",
    "    Recall: Gerçek pozitiflerin doğru bir şekilde tahmin edilme oranıdır. 0 sınıfı için %86, 1 sınıfı için %93.\n",
    "    F1-Score: Precision ve recall metriklerinin harmonik ortalamasıdır. Denge metriği olarak kullanılır. 0 sınıfı için %89, 1 sınıfı için %91.\n",
    "    Accuracy: Doğru tahminlerin toplam tahminlere oranıdır. %90.\n",
    "    Macro Avg: Sınıflar arasında ağırlıklandırılmamış ortalamadır. Sınıf sayısına bağlı olarak dengelenmemiş bir ölçüdür.\n",
    "    Weighted Avg: Her sınıfın desteğine (support) göre ağırlıklı ortalamadır. Sınıflar arasındaki dengesizliği göz önünde bulundurur.\n",
    "\n",
    "Bu sonuçlar, modelin genel olarak iyi performans gösterdiğini ve sınıflar arasında dengeli bir tahmin yapabildiğini gösteriyor."
   ]
  },
  {
   "cell_type": "code",
   "execution_count": 97,
   "id": "1f1eddc5-576c-4bb8-a62b-ce6cb35d7b9a",
   "metadata": {},
   "outputs": [
    {
     "data": {
      "text/plain": [
       "<AxesSubplot:>"
      ]
     },
     "execution_count": 97,
     "metadata": {},
     "output_type": "execute_result"
    },
    {
     "data": {
      "image/png": "[encoded data removed]",
      "text/plain": [
       "<Figure size 432x288 with 2 Axes>"
      ]
     },
     "metadata": {
      "needs_background": "light"
     },
     "output_type": "display_data"
    }
   ],
   "source": [
    "sns.heatmap(confusion_matrix(y_newts, model_rfn.predict(X_newts)),\n",
    "           annot=True, fmt=\".1f\")"
   ]
  },
  {
   "cell_type": "code",
   "execution_count": null,
   "id": "0522da8c-65cc-49a1-b3c3-ef6d82efa714",
   "metadata": {},
   "outputs": [],
   "source": []
  }
 ],
 "metadata": {
  "kernelspec": {
   "display_name": "anaconda-2022.05-py39",
   "language": "python",
   "name": "conda-env-anaconda-2022.05-py39-py"
  },
  "language_info": {
   "codemirror_mode": {
    "name": "ipython",
    "version": 3
   },
   "file_extension": ".py",
   "mimetype": "text/x-python",
   "name": "python",
   "nbconvert_exporter": "python",
   "pygments_lexer": "ipython3",
   "version": "3.9.12"
  }
 },
 "nbformat": 4,
 "nbformat_minor": 5
}
